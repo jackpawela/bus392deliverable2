{
 "cells": [
  {
   "cell_type": "code",
   "execution_count": 1,
   "metadata": {},
   "outputs": [],
   "source": [
    "import pickle"
   ]
  },
  {
   "cell_type": "markdown",
   "metadata": {},
   "source": [
    "<h1>Classes</h1>"
   ]
  },
  {
   "cell_type": "markdown",
   "metadata": {},
   "source": [
    "<h3>File</h3>"
   ]
  },
  {
   "cell_type": "code",
   "execution_count": 2,
   "metadata": {},
   "outputs": [],
   "source": [
    "# Contains property records, which is a list of records. Each record is a list of its attributes.\n",
    "# usage: File('filepath.ext')\n",
    "class File:\n",
    "    def __init__(self, filepath):\n",
    "        with open(filepath, 'r') as f:\n",
    "            lines = f.readlines()\n",
    "            self.records = [ \n",
    "                    [item.strip() for item in line.split(',')]\n",
    "                    for line in lines[1:]\n",
    "                    ]\n",
    "        self.records_dict = {record[6]:record for record in self.records}\n"
   ]
  },
  {
   "cell_type": "markdown",
   "metadata": {},
   "source": [
    "<h3>Record</h3>"
   ]
  },
  {
   "cell_type": "code",
   "execution_count": 3,
   "metadata": {},
   "outputs": [],
   "source": [
    "class Record:\n",
    "    def __init__(self, record_as_list):\n",
    "        self.__order_id = record_as_list[6]\n",
    "        self.__ship_date = record_as_list[5]\n",
    "        self.__total_profit = record_as_list[13]\n",
    "        \n",
    "    def __str__(self):\n",
    "        return f'ID: {self.__order_id}\\nDate: {self.__ship_date}\\nTotal Profit: {self.__total_profit}'\n",
    "    \n",
    "    def get_order_id(self):\n",
    "        return self.__order_id\n",
    "    \n",
    "    def get_ship_date(self):\n",
    "        return self.__ship_date\n",
    "    \n",
    "    def get_total_profit(self):\n",
    "        return self.__total_profit"
   ]
  },
  {
   "cell_type": "markdown",
   "metadata": {},
   "source": [
    "<h1>Create &amp; store Record objects</h1>"
   ]
  },
  {
   "cell_type": "code",
   "execution_count": 4,
   "metadata": {},
   "outputs": [],
   "source": [
    "def store_100_records(my_file):\n",
    "    records = [Record(item) for item in my_file.records[:100]]\n",
    "    with open('record_objects.dat', 'wb') as f:\n",
    "        pickle.dump(records, f)"
   ]
  },
  {
   "cell_type": "markdown",
   "metadata": {},
   "source": [
    "<h1>Unpickle &amp; return Record objects</h1>"
   ]
  },
  {
   "cell_type": "code",
   "execution_count": 5,
   "metadata": {},
   "outputs": [],
   "source": [
    "def return_pickled_records():\n",
    "    with open('record_objects.dat', 'rb') as f:\n",
    "        records = pickle.load(f)\n",
    "        return records"
   ]
  },
  {
   "cell_type": "markdown",
   "metadata": {},
   "source": [
    "<h1>Find max &amp; min profit functions</h1>"
   ]
  },
  {
   "cell_type": "code",
   "execution_count": 6,
   "metadata": {},
   "outputs": [],
   "source": [
    "# Returns record item with highest max_profit value\n",
    "# list -> list\n",
    "def find_max_profit(records):\n",
    "    max_idx, max_record = max(enumerate(records), key=lambda x: float(x[1][13]))\n",
    "    return max_idx, max_record"
   ]
  },
  {
   "cell_type": "code",
   "execution_count": 7,
   "metadata": {},
   "outputs": [],
   "source": [
    "# Returns record item with lowest max_profit value\n",
    "# list -> list\n",
    "def find_min_profit(records):\n",
    "    min_idx, max_record = min(enumerate(records), key=lambda x: float(x[1][13]))\n",
    "    return min_idx, max_record"
   ]
  },
  {
   "cell_type": "code",
   "execution_count": 8,
   "metadata": {},
   "outputs": [],
   "source": [
    "def print_max_min_profit(records, choice):\n",
    "    if choice == 'max':\n",
    "        idx, record = find_max_profit(records)\n",
    "    elif choice == 'min':\n",
    "        idx, record = find_min_profit(records)\n",
    "    # profit\n",
    "    print('%-31s $%.2f' % (f'The {choice} profit is:', (float(record[13]))))\n",
    "    \n",
    "    # order num\n",
    "    print('%-31s %s' % ('Found in order #', record[6]))\n",
    "    \n",
    "    # index\n",
    "    print('%-31s %s' % ('At index value:', idx))"
   ]
  },
  {
   "cell_type": "markdown",
   "metadata": {},
   "source": [
    "<h1>Sort records by max/min profit functions</h1>"
   ]
  },
  {
   "cell_type": "code",
   "execution_count": 9,
   "metadata": {},
   "outputs": [],
   "source": [
    "def sort_by_max_profit(records):\n",
    "    sorted_records = records[:]\n",
    "    sorted_records.sort(reverse=True, key=lambda x: float(x[13]))\n",
    "    return sorted_records[:10]"
   ]
  },
  {
   "cell_type": "code",
   "execution_count": 10,
   "metadata": {},
   "outputs": [],
   "source": [
    "def sort_by_min_profit(records):\n",
    "    sorted_records = records[:]\n",
    "    sorted_records.sort(key=lambda x: float(x[13]))\n",
    "    return sorted_records[:10]"
   ]
  },
  {
   "cell_type": "markdown",
   "metadata": {},
   "source": [
    "<h1>Main</h1>"
   ]
  },
  {
   "cell_type": "code",
   "execution_count": 11,
   "metadata": {},
   "outputs": [],
   "source": [
    "def main():\n",
    "    my_file = File('Records.csv')\n",
    "    \n",
    "    # Print the header\n",
    "    print('ORDER STATISTICS', 66*'*', sep='\\n')\n",
    "    \n",
    "    # Min/Max profit\n",
    "    print_max_min_profit(my_file.records, 'max')\n",
    "    print('')\n",
    "    print_max_min_profit(my_file.records, 'min')\n",
    "    \n",
    "    # top 10s\n",
    "    top_10_header = ('Order ID', 'Order Date', 'Total Profit')\n",
    "    highest_10 = sort_by_max_profit(my_file.records)\n",
    "    print('\\nTop 10 highest total profit items')\n",
    "    print('\\t %-20s %-30s %s' % top_10_header)\n",
    "    for record in highest_10:\n",
    "        print('\\t %-20s %-30s $ %.2f' % (record[6], record[5], float(record[13])))\n",
    "    \n",
    "    lowest_10 = sort_by_min_profit(my_file.records)\n",
    "    print('\\nTop 10 lowest total profit items')\n",
    "    print('\\t %-20s %-30s %s' % top_10_header)\n",
    "    for record in lowest_10:\n",
    "        print('\\t %-20s %-30s $ %.2f' % (record[6], record[5], float(record[13])))\n",
    "        \n",
    "        \n",
    "    # Order Search Function\n",
    "    print('\\nOrder Search Function\\n', '*'*66, sep='')\n",
    "    while True:\n",
    "        try:\n",
    "            order_id = input('Please enter an Order ID to locate: ')\n",
    "            selected_record = my_file.records_dict[order_id]\n",
    "            break\n",
    "        except KeyError:\n",
    "            print('ERROR: Index not in list. Please try again.')\n",
    "            \n",
    "    order_search_fields = ('Order ID:', 'Ship Date:', 'Total Revenue')\n",
    "    order_search_results = [selected_record[6], selected_record[5], '$ %.2f' % float(selected_record[11])]\n",
    "    for (field, result) in zip(order_search_fields, order_search_results):\n",
    "        print('%-22s %s' % (field, result))\n",
    "        \n",
    "    # Deserialized Object\n",
    "    store_100_records(my_file)\n",
    "    deserialized = return_pickled_records()[9]\n",
    "    deserialized_results = (deserialized.get_order_id(), deserialized.get_ship_date(), deserialized.get_total_profit())\n",
    "    deserialized_fields = ('Order ID:', 'Ship Date:', 'Total Profit')\n",
    "    print('\\nDeserialized Object\\n', '*'*66, sep='')\n",
    "    print('This is record #10 out of 100:')\n",
    "    for (field, result) in zip(deserialized_fields, deserialized_results):\n",
    "        print('%-22s %s' % (field, result))\n"
   ]
  },
  {
   "cell_type": "markdown",
   "metadata": {},
   "source": [
    "<h1>Results</h1>"
   ]
  },
  {
   "cell_type": "code",
   "execution_count": 12,
   "metadata": {},
   "outputs": [
    {
     "name": "stdout",
     "output_type": "stream",
     "text": [
      "ORDER STATISTICS\n",
      "******************************************************************\n",
      "The max profit is:              $1738703.00\n",
      "Found in order #                261322534\n",
      "At index value:                 283913\n",
      "\n",
      "The min profit is:              $2.36\n",
      "Found in order #                822855222\n",
      "At index value:                 367995\n",
      "\n",
      "Top 10 highest total profit items\n",
      "\t Order ID             Order Date                     Total Profit\n",
      "\t 261322534            6/20/2016                      $ 1738703.00\n",
      "\t 174407804            2/18/2016                      $ 1738702.00\n",
      "\t 707318103            3/16/2016                      $ 1738701.00\n",
      "\t 340228402            4/11/2016                      $ 1738700.00\n",
      "\t 181233918            3/13/2011                      $ 1738528.13\n",
      "\t 504866254            12/16/2010                     $ 1738527.13\n",
      "\t 345871770            6/13/2013                      $ 1738354.26\n",
      "\t 878782069            7/9/2013                       $ 1738353.26\n",
      "\t 344689023            7/23/2015                      $ 1738180.39\n",
      "\t 553966987            11/14/2015                     $ 1738179.39\n",
      "\n",
      "Top 10 lowest total profit items\n",
      "\t Order ID             Order Date                     Total Profit\n",
      "\t 822855222            7/18/2013                      $ 2.36\n",
      "\t 700491988            7/27/2013                      $ 2.37\n",
      "\t 657034623            5/27/2013                      $ 2.38\n",
      "\t 211039054            8/31/2013                      $ 2.39\n",
      "\t 289944922            6/22/2013                      $ 2.40\n",
      "\t 737123239            2/7/2011                       $ 4.77\n",
      "\t 413490903            5/5/2011                       $ 4.78\n",
      "\t 535854136            4/26/2011                      $ 4.79\n",
      "\t 658217370            4/18/2011                      $ 4.80\n",
      "\t 614760005            2/15/2011                      $ 4.81\n",
      "\n",
      "Order Search Function\n",
      "******************************************************************\n",
      "Please enter an Order ID to locate: 614760005\n",
      "Order ID:              614760005\n",
      "Ship Date:             2/15/2011\n",
      "Total Revenue          $ 18.66\n",
      "\n",
      "Deserialized Object\n",
      "******************************************************************\n",
      "This is record #10 out of 100:\n",
      "Order ID:              739008080\n",
      "Ship Date:             5/23/2016\n",
      "Total Profit           1350622.16\n"
     ]
    }
   ],
   "source": [
    "main()"
   ]
  }
 ],
 "metadata": {
  "kernelspec": {
   "display_name": "Python 3",
   "language": "python",
   "name": "python3"
  },
  "language_info": {
   "codemirror_mode": {
    "name": "ipython",
    "version": 3
   },
   "file_extension": ".py",
   "mimetype": "text/x-python",
   "name": "python",
   "nbconvert_exporter": "python",
   "pygments_lexer": "ipython3",
   "version": "3.7.3"
  }
 },
 "nbformat": 4,
 "nbformat_minor": 2
}
